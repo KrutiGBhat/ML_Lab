{
 "cells": [
  {
   "cell_type": "code",
   "execution_count": 45,
   "id": "ceb2b6c2",
   "metadata": {},
   "outputs": [],
   "source": [
    "import pandas as pd\n",
    "import matplotlib.pyplot as plt"
   ]
  },
  {
   "cell_type": "code",
   "execution_count": 46,
   "id": "916d7965",
   "metadata": {},
   "outputs": [
    {
     "data": {
      "text/html": [
       "<div>\n",
       "<style scoped>\n",
       "    .dataframe tbody tr th:only-of-type {\n",
       "        vertical-align: middle;\n",
       "    }\n",
       "\n",
       "    .dataframe tbody tr th {\n",
       "        vertical-align: top;\n",
       "    }\n",
       "\n",
       "    .dataframe thead th {\n",
       "        text-align: right;\n",
       "    }\n",
       "</style>\n",
       "<table border=\"1\" class=\"dataframe\">\n",
       "  <thead>\n",
       "    <tr style=\"text-align: right;\">\n",
       "      <th></th>\n",
       "      <th>xlabel</th>\n",
       "      <th>ylabel</th>\n",
       "    </tr>\n",
       "  </thead>\n",
       "  <tbody>\n",
       "    <tr>\n",
       "      <th>0</th>\n",
       "      <td>6.1101</td>\n",
       "      <td>17.59200</td>\n",
       "    </tr>\n",
       "    <tr>\n",
       "      <th>1</th>\n",
       "      <td>5.5277</td>\n",
       "      <td>9.13020</td>\n",
       "    </tr>\n",
       "    <tr>\n",
       "      <th>2</th>\n",
       "      <td>8.5186</td>\n",
       "      <td>13.66200</td>\n",
       "    </tr>\n",
       "    <tr>\n",
       "      <th>3</th>\n",
       "      <td>7.0032</td>\n",
       "      <td>11.85400</td>\n",
       "    </tr>\n",
       "    <tr>\n",
       "      <th>4</th>\n",
       "      <td>5.8598</td>\n",
       "      <td>6.82330</td>\n",
       "    </tr>\n",
       "    <tr>\n",
       "      <th>...</th>\n",
       "      <td>...</td>\n",
       "      <td>...</td>\n",
       "    </tr>\n",
       "    <tr>\n",
       "      <th>92</th>\n",
       "      <td>5.8707</td>\n",
       "      <td>7.20290</td>\n",
       "    </tr>\n",
       "    <tr>\n",
       "      <th>93</th>\n",
       "      <td>5.3054</td>\n",
       "      <td>1.98690</td>\n",
       "    </tr>\n",
       "    <tr>\n",
       "      <th>94</th>\n",
       "      <td>8.2934</td>\n",
       "      <td>0.14454</td>\n",
       "    </tr>\n",
       "    <tr>\n",
       "      <th>95</th>\n",
       "      <td>13.3940</td>\n",
       "      <td>9.05510</td>\n",
       "    </tr>\n",
       "    <tr>\n",
       "      <th>96</th>\n",
       "      <td>5.4369</td>\n",
       "      <td>0.61705</td>\n",
       "    </tr>\n",
       "  </tbody>\n",
       "</table>\n",
       "<p>97 rows × 2 columns</p>\n",
       "</div>"
      ],
      "text/plain": [
       "     xlabel    ylabel\n",
       "0    6.1101  17.59200\n",
       "1    5.5277   9.13020\n",
       "2    8.5186  13.66200\n",
       "3    7.0032  11.85400\n",
       "4    5.8598   6.82330\n",
       "..      ...       ...\n",
       "92   5.8707   7.20290\n",
       "93   5.3054   1.98690\n",
       "94   8.2934   0.14454\n",
       "95  13.3940   9.05510\n",
       "96   5.4369   0.61705\n",
       "\n",
       "[97 rows x 2 columns]"
      ]
     },
     "execution_count": 46,
     "metadata": {},
     "output_type": "execute_result"
    }
   ],
   "source": [
    "df = pd.read_csv(\"/home/admin1/Downloads/Food-Truck(For Linear Regression Program).csv\")\n",
    "df"
   ]
  },
  {
   "cell_type": "code",
   "execution_count": 47,
   "id": "12d6eb3f",
   "metadata": {},
   "outputs": [
    {
     "data": {
      "image/png": "[encoded data removed]",
      "text/plain": [
       "<Figure size 432x288 with 1 Axes>"
      ]
     },
     "metadata": {
      "needs_background": "light"
     },
     "output_type": "display_data"
    }
   ],
   "source": [
    "df.plot(x=\"xlabel\", y=\"ylabel\", style=\"o\")\n",
    "plt.show()"
   ]
  },
  {
   "cell_type": "code",
   "execution_count": 48,
   "id": "4cd9383a",
   "metadata": {},
   "outputs": [
    {
     "name": "stdout",
     "output_type": "stream",
     "text": [
      "8.159799999999999 5.839135051546393\n"
     ]
    }
   ],
   "source": [
    "x_mean = df[\"xlabel\"].mean()\n",
    "y_mean = df[\"ylabel\"].mean()\n",
    "print(x_mean, y_mean)"
   ]
  },
  {
   "cell_type": "code",
   "execution_count": 49,
   "id": "3b184618",
   "metadata": {},
   "outputs": [
    {
     "data": {
      "text/html": [
       "<div>\n",
       "<style scoped>\n",
       "    .dataframe tbody tr th:only-of-type {\n",
       "        vertical-align: middle;\n",
       "    }\n",
       "\n",
       "    .dataframe tbody tr th {\n",
       "        vertical-align: top;\n",
       "    }\n",
       "\n",
       "    .dataframe thead th {\n",
       "        text-align: right;\n",
       "    }\n",
       "</style>\n",
       "<table border=\"1\" class=\"dataframe\">\n",
       "  <thead>\n",
       "    <tr style=\"text-align: right;\">\n",
       "      <th></th>\n",
       "      <th>xlabel</th>\n",
       "      <th>ylabel</th>\n",
       "      <th>x</th>\n",
       "      <th>y</th>\n",
       "      <th>x*y</th>\n",
       "      <th>x^2</th>\n",
       "      <th>y^2</th>\n",
       "    </tr>\n",
       "  </thead>\n",
       "  <tbody>\n",
       "    <tr>\n",
       "      <th>0</th>\n",
       "      <td>6.1101</td>\n",
       "      <td>17.59200</td>\n",
       "      <td>-2.0497</td>\n",
       "      <td>11.752865</td>\n",
       "      <td>-24.089847</td>\n",
       "      <td>4.201270</td>\n",
       "      <td>138.129834</td>\n",
       "    </tr>\n",
       "    <tr>\n",
       "      <th>1</th>\n",
       "      <td>5.5277</td>\n",
       "      <td>9.13020</td>\n",
       "      <td>-2.6321</td>\n",
       "      <td>3.291065</td>\n",
       "      <td>-8.662412</td>\n",
       "      <td>6.927950</td>\n",
       "      <td>10.831108</td>\n",
       "    </tr>\n",
       "    <tr>\n",
       "      <th>2</th>\n",
       "      <td>8.5186</td>\n",
       "      <td>13.66200</td>\n",
       "      <td>0.3588</td>\n",
       "      <td>7.822865</td>\n",
       "      <td>2.806844</td>\n",
       "      <td>0.128737</td>\n",
       "      <td>61.197216</td>\n",
       "    </tr>\n",
       "    <tr>\n",
       "      <th>3</th>\n",
       "      <td>7.0032</td>\n",
       "      <td>11.85400</td>\n",
       "      <td>-1.1566</td>\n",
       "      <td>6.014865</td>\n",
       "      <td>-6.956793</td>\n",
       "      <td>1.337724</td>\n",
       "      <td>36.178600</td>\n",
       "    </tr>\n",
       "    <tr>\n",
       "      <th>4</th>\n",
       "      <td>5.8598</td>\n",
       "      <td>6.82330</td>\n",
       "      <td>-2.3000</td>\n",
       "      <td>0.984165</td>\n",
       "      <td>-2.263579</td>\n",
       "      <td>5.290000</td>\n",
       "      <td>0.968581</td>\n",
       "    </tr>\n",
       "    <tr>\n",
       "      <th>...</th>\n",
       "      <td>...</td>\n",
       "      <td>...</td>\n",
       "      <td>...</td>\n",
       "      <td>...</td>\n",
       "      <td>...</td>\n",
       "      <td>...</td>\n",
       "      <td>...</td>\n",
       "    </tr>\n",
       "    <tr>\n",
       "      <th>92</th>\n",
       "      <td>5.8707</td>\n",
       "      <td>7.20290</td>\n",
       "      <td>-2.2891</td>\n",
       "      <td>1.363765</td>\n",
       "      <td>-3.121794</td>\n",
       "      <td>5.239979</td>\n",
       "      <td>1.859855</td>\n",
       "    </tr>\n",
       "    <tr>\n",
       "      <th>93</th>\n",
       "      <td>5.3054</td>\n",
       "      <td>1.98690</td>\n",
       "      <td>-2.8544</td>\n",
       "      <td>-3.852235</td>\n",
       "      <td>10.995820</td>\n",
       "      <td>8.147599</td>\n",
       "      <td>14.839715</td>\n",
       "    </tr>\n",
       "    <tr>\n",
       "      <th>94</th>\n",
       "      <td>8.2934</td>\n",
       "      <td>0.14454</td>\n",
       "      <td>0.1336</td>\n",
       "      <td>-5.694595</td>\n",
       "      <td>-0.760798</td>\n",
       "      <td>0.017849</td>\n",
       "      <td>32.428413</td>\n",
       "    </tr>\n",
       "    <tr>\n",
       "      <th>95</th>\n",
       "      <td>13.3940</td>\n",
       "      <td>9.05510</td>\n",
       "      <td>5.2342</td>\n",
       "      <td>3.215965</td>\n",
       "      <td>16.833004</td>\n",
       "      <td>27.396850</td>\n",
       "      <td>10.342431</td>\n",
       "    </tr>\n",
       "    <tr>\n",
       "      <th>96</th>\n",
       "      <td>5.4369</td>\n",
       "      <td>0.61705</td>\n",
       "      <td>-2.7229</td>\n",
       "      <td>-5.222085</td>\n",
       "      <td>14.219215</td>\n",
       "      <td>7.414184</td>\n",
       "      <td>27.270172</td>\n",
       "    </tr>\n",
       "  </tbody>\n",
       "</table>\n",
       "<p>97 rows × 7 columns</p>\n",
       "</div>"
      ],
      "text/plain": [
       "     xlabel    ylabel       x          y        x*y        x^2         y^2\n",
       "0    6.1101  17.59200 -2.0497  11.752865 -24.089847   4.201270  138.129834\n",
       "1    5.5277   9.13020 -2.6321   3.291065  -8.662412   6.927950   10.831108\n",
       "2    8.5186  13.66200  0.3588   7.822865   2.806844   0.128737   61.197216\n",
       "3    7.0032  11.85400 -1.1566   6.014865  -6.956793   1.337724   36.178600\n",
       "4    5.8598   6.82330 -2.3000   0.984165  -2.263579   5.290000    0.968581\n",
       "..      ...       ...     ...        ...        ...        ...         ...\n",
       "92   5.8707   7.20290 -2.2891   1.363765  -3.121794   5.239979    1.859855\n",
       "93   5.3054   1.98690 -2.8544  -3.852235  10.995820   8.147599   14.839715\n",
       "94   8.2934   0.14454  0.1336  -5.694595  -0.760798   0.017849   32.428413\n",
       "95  13.3940   9.05510  5.2342   3.215965  16.833004  27.396850   10.342431\n",
       "96   5.4369   0.61705 -2.7229  -5.222085  14.219215   7.414184   27.270172\n",
       "\n",
       "[97 rows x 7 columns]"
      ]
     },
     "execution_count": 49,
     "metadata": {},
     "output_type": "execute_result"
    }
   ],
   "source": [
    "df[\"x\"] = df[\"xlabel\"] - x_mean\n",
    "df[\"y\"] = df[\"ylabel\"] - y_mean\n",
    "df[\"x*y\"] = df[\"x\"] * df[\"y\"]\n",
    "df[\"x^2\"] = df[\"x\"]**2\n",
    "df[\"y^2\"] = df[\"y\"]**2\n",
    "df"
   ]
  },
  {
   "cell_type": "code",
   "execution_count": 50,
   "id": "c0fb7874",
   "metadata": {},
   "outputs": [
    {
     "name": "stdout",
     "output_type": "stream",
     "text": [
      "1715.219528539 1437.69585786 2914.8470516572247\n"
     ]
    }
   ],
   "source": [
    "summation_x_y = df[\"x*y\"].sum()\n",
    "summation_x_squared = df[\"x^2\"].sum()\n",
    "summation_y_squared = df[\"y^2\"].sum()\n",
    "print(summation_x_y, summation_x_squared, summation_y_squared)"
   ]
  },
  {
   "cell_type": "code",
   "execution_count": 51,
   "id": "236e7f92",
   "metadata": {},
   "outputs": [
    {
     "data": {
      "text/plain": [
       "0.8378732325263409"
      ]
     },
     "execution_count": 51,
     "metadata": {},
     "output_type": "execute_result"
    }
   ],
   "source": [
    "correlation = summation_x_y / (summation_x_squared * summation_y_squared)**0.5\n",
    "correlation"
   ]
  },
  {
   "cell_type": "code",
   "execution_count": 55,
   "id": "9f4efeb4",
   "metadata": {},
   "outputs": [],
   "source": [
    "def getMean(numbers):\n",
    "    if len(numbers) == 0:\n",
    "        return None\n",
    "    else:\n",
    "        current_sum = 0\n",
    "        for i in numbers:\n",
    "            current_sum += i\n",
    "            current_avg = current_sum/len(numbers)\n",
    "        return current_avg"
   ]
  },
  {
   "cell_type": "code",
   "execution_count": 56,
   "id": "92086378",
   "metadata": {},
   "outputs": [],
   "source": [
    "def getStandardDeviation(numbers):\n",
    "    if len(numbers) == 0:\n",
    "        return 0\n",
    "    else:\n",
    "        mean = getMean(numbers)\n",
    "        std_deviation = 0\n",
    "        for i in numbers:\n",
    "            std_deviation += (i - mean)**2\n",
    "        return (std_deviation/len(numbers))**0.5"
   ]
  },
  {
   "cell_type": "code",
   "execution_count": 57,
   "id": "73d2a6b4",
   "metadata": {},
   "outputs": [
    {
     "name": "stdout",
     "output_type": "stream",
     "text": [
      "3.8498839959227156 5.48178525707763\n"
     ]
    }
   ],
   "source": [
    "std_deviation_x = getStandardDeviation(df[\"x\"].tolist())\n",
    "std_deviation_y = getStandardDeviation(df[\"y\"].tolist())\n",
    "print(std_deviation_x, std_deviation_y)"
   ]
  },
  {
   "cell_type": "code",
   "execution_count": 58,
   "id": "29eb4f2b",
   "metadata": {},
   "outputs": [
    {
     "data": {
      "text/plain": [
       "1.1930336441895937"
      ]
     },
     "execution_count": 58,
     "metadata": {},
     "output_type": "execute_result"
    }
   ],
   "source": [
    "m = correlation * (std_deviation_y / std_deviation_x)\n",
    "m"
   ]
  },
  {
   "cell_type": "code",
   "execution_count": 59,
   "id": "1b8de521",
   "metadata": {},
   "outputs": [
    {
     "data": {
      "text/plain": [
       "-3.895780878311852"
      ]
     },
     "execution_count": 59,
     "metadata": {},
     "output_type": "execute_result"
    }
   ],
   "source": [
    "c = df[\"ylabel\"].mean() - m * df[\"xlabel\"].mean()\n",
    "c"
   ]
  },
  {
   "cell_type": "code",
   "execution_count": 60,
   "id": "5f4e001d",
   "metadata": {},
   "outputs": [
    {
     "data": {
      "text/html": [
       "<div>\n",
       "<style scoped>\n",
       "    .dataframe tbody tr th:only-of-type {\n",
       "        vertical-align: middle;\n",
       "    }\n",
       "\n",
       "    .dataframe tbody tr th {\n",
       "        vertical-align: top;\n",
       "    }\n",
       "\n",
       "    .dataframe thead th {\n",
       "        text-align: right;\n",
       "    }\n",
       "</style>\n",
       "<table border=\"1\" class=\"dataframe\">\n",
       "  <thead>\n",
       "    <tr style=\"text-align: right;\">\n",
       "      <th></th>\n",
       "      <th>xlabel</th>\n",
       "      <th>ylabel</th>\n",
       "      <th>x</th>\n",
       "      <th>y</th>\n",
       "      <th>x*y</th>\n",
       "      <th>x^2</th>\n",
       "      <th>y^2</th>\n",
       "      <th>y_prediction</th>\n",
       "    </tr>\n",
       "  </thead>\n",
       "  <tbody>\n",
       "    <tr>\n",
       "      <th>0</th>\n",
       "      <td>6.1101</td>\n",
       "      <td>17.59200</td>\n",
       "      <td>-2.0497</td>\n",
       "      <td>11.752865</td>\n",
       "      <td>-24.089847</td>\n",
       "      <td>4.201270</td>\n",
       "      <td>138.129834</td>\n",
       "      <td>3.393774</td>\n",
       "    </tr>\n",
       "    <tr>\n",
       "      <th>1</th>\n",
       "      <td>5.5277</td>\n",
       "      <td>9.13020</td>\n",
       "      <td>-2.6321</td>\n",
       "      <td>3.291065</td>\n",
       "      <td>-8.662412</td>\n",
       "      <td>6.927950</td>\n",
       "      <td>10.831108</td>\n",
       "      <td>2.698951</td>\n",
       "    </tr>\n",
       "    <tr>\n",
       "      <th>2</th>\n",
       "      <td>8.5186</td>\n",
       "      <td>13.66200</td>\n",
       "      <td>0.3588</td>\n",
       "      <td>7.822865</td>\n",
       "      <td>2.806844</td>\n",
       "      <td>0.128737</td>\n",
       "      <td>61.197216</td>\n",
       "      <td>6.267196</td>\n",
       "    </tr>\n",
       "    <tr>\n",
       "      <th>3</th>\n",
       "      <td>7.0032</td>\n",
       "      <td>11.85400</td>\n",
       "      <td>-1.1566</td>\n",
       "      <td>6.014865</td>\n",
       "      <td>-6.956793</td>\n",
       "      <td>1.337724</td>\n",
       "      <td>36.178600</td>\n",
       "      <td>4.459272</td>\n",
       "    </tr>\n",
       "    <tr>\n",
       "      <th>4</th>\n",
       "      <td>5.8598</td>\n",
       "      <td>6.82330</td>\n",
       "      <td>-2.3000</td>\n",
       "      <td>0.984165</td>\n",
       "      <td>-2.263579</td>\n",
       "      <td>5.290000</td>\n",
       "      <td>0.968581</td>\n",
       "      <td>3.095158</td>\n",
       "    </tr>\n",
       "    <tr>\n",
       "      <th>...</th>\n",
       "      <td>...</td>\n",
       "      <td>...</td>\n",
       "      <td>...</td>\n",
       "      <td>...</td>\n",
       "      <td>...</td>\n",
       "      <td>...</td>\n",
       "      <td>...</td>\n",
       "      <td>...</td>\n",
       "    </tr>\n",
       "    <tr>\n",
       "      <th>92</th>\n",
       "      <td>5.8707</td>\n",
       "      <td>7.20290</td>\n",
       "      <td>-2.2891</td>\n",
       "      <td>1.363765</td>\n",
       "      <td>-3.121794</td>\n",
       "      <td>5.239979</td>\n",
       "      <td>1.859855</td>\n",
       "      <td>3.108162</td>\n",
       "    </tr>\n",
       "    <tr>\n",
       "      <th>93</th>\n",
       "      <td>5.3054</td>\n",
       "      <td>1.98690</td>\n",
       "      <td>-2.8544</td>\n",
       "      <td>-3.852235</td>\n",
       "      <td>10.995820</td>\n",
       "      <td>8.147599</td>\n",
       "      <td>14.839715</td>\n",
       "      <td>2.433740</td>\n",
       "    </tr>\n",
       "    <tr>\n",
       "      <th>94</th>\n",
       "      <td>8.2934</td>\n",
       "      <td>0.14454</td>\n",
       "      <td>0.1336</td>\n",
       "      <td>-5.694595</td>\n",
       "      <td>-0.760798</td>\n",
       "      <td>0.017849</td>\n",
       "      <td>32.428413</td>\n",
       "      <td>5.998524</td>\n",
       "    </tr>\n",
       "    <tr>\n",
       "      <th>95</th>\n",
       "      <td>13.3940</td>\n",
       "      <td>9.05510</td>\n",
       "      <td>5.2342</td>\n",
       "      <td>3.215965</td>\n",
       "      <td>16.833004</td>\n",
       "      <td>27.396850</td>\n",
       "      <td>10.342431</td>\n",
       "      <td>12.083712</td>\n",
       "    </tr>\n",
       "    <tr>\n",
       "      <th>96</th>\n",
       "      <td>5.4369</td>\n",
       "      <td>0.61705</td>\n",
       "      <td>-2.7229</td>\n",
       "      <td>-5.222085</td>\n",
       "      <td>14.219215</td>\n",
       "      <td>7.414184</td>\n",
       "      <td>27.270172</td>\n",
       "      <td>2.590624</td>\n",
       "    </tr>\n",
       "  </tbody>\n",
       "</table>\n",
       "<p>97 rows × 8 columns</p>\n",
       "</div>"
      ],
      "text/plain": [
       "     xlabel    ylabel       x          y        x*y        x^2         y^2  \\\n",
       "0    6.1101  17.59200 -2.0497  11.752865 -24.089847   4.201270  138.129834   \n",
       "1    5.5277   9.13020 -2.6321   3.291065  -8.662412   6.927950   10.831108   \n",
       "2    8.5186  13.66200  0.3588   7.822865   2.806844   0.128737   61.197216   \n",
       "3    7.0032  11.85400 -1.1566   6.014865  -6.956793   1.337724   36.178600   \n",
       "4    5.8598   6.82330 -2.3000   0.984165  -2.263579   5.290000    0.968581   \n",
       "..      ...       ...     ...        ...        ...        ...         ...   \n",
       "92   5.8707   7.20290 -2.2891   1.363765  -3.121794   5.239979    1.859855   \n",
       "93   5.3054   1.98690 -2.8544  -3.852235  10.995820   8.147599   14.839715   \n",
       "94   8.2934   0.14454  0.1336  -5.694595  -0.760798   0.017849   32.428413   \n",
       "95  13.3940   9.05510  5.2342   3.215965  16.833004  27.396850   10.342431   \n",
       "96   5.4369   0.61705 -2.7229  -5.222085  14.219215   7.414184   27.270172   \n",
       "\n",
       "    y_prediction  \n",
       "0       3.393774  \n",
       "1       2.698951  \n",
       "2       6.267196  \n",
       "3       4.459272  \n",
       "4       3.095158  \n",
       "..           ...  \n",
       "92      3.108162  \n",
       "93      2.433740  \n",
       "94      5.998524  \n",
       "95     12.083712  \n",
       "96      2.590624  \n",
       "\n",
       "[97 rows x 8 columns]"
      ]
     },
     "execution_count": 60,
     "metadata": {},
     "output_type": "execute_result"
    }
   ],
   "source": [
    "df[\"y_prediction\"] = m * df[\"xlabel\"] + c\n",
    "df"
   ]
  },
  {
   "cell_type": "code",
   "execution_count": 61,
   "id": "fbe9a9da",
   "metadata": {},
   "outputs": [
    {
     "data": {
      "image/png": "[encoded data removed]",
      "text/plain": [
       "<Figure size 432x288 with 1 Axes>"
      ]
     },
     "metadata": {
      "needs_background": "light"
     },
     "output_type": "display_data"
    }
   ],
   "source": [
    "plot1 = plt.scatter(df[\"xlabel\"], df[\"ylabel\"])\n",
    "plot2 = plt.scatter(df[\"xlabel\"], df[\"y_prediction\"])\n",
    "plt.show()"
   ]
  },
  {
   "cell_type": "code",
   "execution_count": 62,
   "id": "5c6a7468",
   "metadata": {},
   "outputs": [
    {
     "data": {
      "text/plain": [
       "0.8378732325263409"
      ]
     },
     "execution_count": 62,
     "metadata": {},
     "output_type": "execute_result"
    }
   ],
   "source": [
    "correlation"
   ]
  },
  {
   "cell_type": "code",
   "execution_count": 63,
   "id": "5c272810",
   "metadata": {},
   "outputs": [
    {
     "data": {
      "text/plain": [
       "2046.3146047180405"
      ]
     },
     "execution_count": 63,
     "metadata": {},
     "output_type": "execute_result"
    }
   ],
   "source": [
    "ssr=sum((df[\"y_prediction\"]- y_mean)**2)\n",
    "ssr"
   ]
  },
  {
   "cell_type": "code",
   "execution_count": 64,
   "id": "7f3e8665",
   "metadata": {},
   "outputs": [
    {
     "data": {
      "text/plain": [
       "868.5324469391843"
      ]
     },
     "execution_count": 64,
     "metadata": {},
     "output_type": "execute_result"
    }
   ],
   "source": [
    "sse=sum((df['ylabel']-df[\"y_prediction\"])**2)\n",
    "sse"
   ]
  },
  {
   "cell_type": "code",
   "execution_count": 65,
   "id": "ee560a0b",
   "metadata": {},
   "outputs": [
    {
     "data": {
      "text/plain": [
       "2914.8470516572247"
      ]
     },
     "execution_count": 65,
     "metadata": {},
     "output_type": "execute_result"
    }
   ],
   "source": [
    "tss=sum((df['ylabel']-y_mean)**2)\n",
    "tss"
   ]
  },
  {
   "cell_type": "code",
   "execution_count": 66,
   "id": "28c46d5f",
   "metadata": {},
   "outputs": [
    {
     "data": {
      "text/plain": [
       "2914.8470516572247"
      ]
     },
     "execution_count": 66,
     "metadata": {},
     "output_type": "execute_result"
    }
   ],
   "source": [
    "tss_new=sse+ssr\n",
    "tss_new"
   ]
  },
  {
   "cell_type": "code",
   "execution_count": 67,
   "id": "8c052424",
   "metadata": {},
   "outputs": [
    {
     "data": {
      "text/plain": [
       "0.7020315537841398"
      ]
     },
     "execution_count": 67,
     "metadata": {},
     "output_type": "execute_result"
    }
   ],
   "source": [
    "R_square= correlation**2\n",
    "R_square"
   ]
  },
  {
   "cell_type": "code",
   "execution_count": 70,
   "id": "e13d90db",
   "metadata": {},
   "outputs": [
    {
     "data": {
      "text/plain": [
       "9.047212988949836"
      ]
     },
     "execution_count": 70,
     "metadata": {},
     "output_type": "execute_result"
    }
   ],
   "source": [
    "cost= sse / 96\n",
    "cost"
   ]
  },
  {
   "cell_type": "code",
   "execution_count": null,
   "id": "2d9bf70e",
   "metadata": {},
   "outputs": [],
   "source": []
  }
 ],
 "metadata": {
  "kernelspec": {
   "display_name": "Python 3 (ipykernel)",
   "language": "python",
   "name": "python3"
  },
  "language_info": {
   "codemirror_mode": {
    "name": "ipython",
    "version": 3
   },
   "file_extension": ".py",
   "mimetype": "text/x-python",
   "name": "python",
   "nbconvert_exporter": "python",
   "pygments_lexer": "ipython3",
   "version": "3.10.6"
  }
 },
 "nbformat": 4,
 "nbformat_minor": 5
}
